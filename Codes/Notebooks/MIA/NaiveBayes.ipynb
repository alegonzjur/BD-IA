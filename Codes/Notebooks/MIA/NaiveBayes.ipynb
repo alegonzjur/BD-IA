{
 "cells": [
  {
   "cell_type": "code",
   "execution_count": 1,
   "id": "9f812f08-a6b8-4d49-b9ff-a59b1a1c178e",
   "metadata": {},
   "outputs": [],
   "source": [
    "import numpy as np \n",
    "import pandas as pd\n",
    "import matplotlib.pyplot as plt \n",
    "\n",
    "\n",
    "#from sklearn.model_selection import train_test_split\n",
    "#from sklearn.naive_bayes import\n",
    "#from sklearn.metrics import "
   ]
  },
  {
   "cell_type": "code",
   "execution_count": 13,
   "id": "5ced6d85-fbdf-4057-8c52-dc148e453310",
   "metadata": {},
   "outputs": [
    {
     "data": {
      "text/html": [
       "<div>\n",
       "<style scoped>\n",
       "    .dataframe tbody tr th:only-of-type {\n",
       "        vertical-align: middle;\n",
       "    }\n",
       "\n",
       "    .dataframe tbody tr th {\n",
       "        vertical-align: top;\n",
       "    }\n",
       "\n",
       "    .dataframe thead th {\n",
       "        text-align: right;\n",
       "    }\n",
       "</style>\n",
       "<table border=\"1\" class=\"dataframe\">\n",
       "  <thead>\n",
       "    <tr style=\"text-align: right;\">\n",
       "      <th></th>\n",
       "      <th>Tipo de Plato</th>\n",
       "      <th>Satisfacción del Cliente</th>\n",
       "    </tr>\n",
       "  </thead>\n",
       "  <tbody>\n",
       "    <tr>\n",
       "      <th>0</th>\n",
       "      <td>Bebida</td>\n",
       "      <td>Baja</td>\n",
       "    </tr>\n",
       "    <tr>\n",
       "      <th>1</th>\n",
       "      <td>Snack</td>\n",
       "      <td>Alta</td>\n",
       "    </tr>\n",
       "    <tr>\n",
       "      <th>2</th>\n",
       "      <td>Postre</td>\n",
       "      <td>Media</td>\n",
       "    </tr>\n",
       "    <tr>\n",
       "      <th>3</th>\n",
       "      <td>Snack</td>\n",
       "      <td>Alta</td>\n",
       "    </tr>\n",
       "    <tr>\n",
       "      <th>4</th>\n",
       "      <td>Snack</td>\n",
       "      <td>Baja</td>\n",
       "    </tr>\n",
       "    <tr>\n",
       "      <th>...</th>\n",
       "      <td>...</td>\n",
       "      <td>...</td>\n",
       "    </tr>\n",
       "    <tr>\n",
       "      <th>95</th>\n",
       "      <td>Postre</td>\n",
       "      <td>Alta</td>\n",
       "    </tr>\n",
       "    <tr>\n",
       "      <th>96</th>\n",
       "      <td>Snack</td>\n",
       "      <td>Alta</td>\n",
       "    </tr>\n",
       "    <tr>\n",
       "      <th>97</th>\n",
       "      <td>Principal</td>\n",
       "      <td>Alta</td>\n",
       "    </tr>\n",
       "    <tr>\n",
       "      <th>98</th>\n",
       "      <td>Principal</td>\n",
       "      <td>Alta</td>\n",
       "    </tr>\n",
       "    <tr>\n",
       "      <th>99</th>\n",
       "      <td>Entrante</td>\n",
       "      <td>Baja</td>\n",
       "    </tr>\n",
       "  </tbody>\n",
       "</table>\n",
       "<p>100 rows × 2 columns</p>\n",
       "</div>"
      ],
      "text/plain": [
       "   Tipo de Plato Satisfacción del Cliente\n",
       "0         Bebida                     Baja\n",
       "1          Snack                     Alta\n",
       "2         Postre                    Media\n",
       "3          Snack                     Alta\n",
       "4          Snack                     Baja\n",
       "..           ...                      ...\n",
       "95        Postre                     Alta\n",
       "96         Snack                     Alta\n",
       "97     Principal                     Alta\n",
       "98     Principal                     Alta\n",
       "99      Entrante                     Baja\n",
       "\n",
       "[100 rows x 2 columns]"
      ]
     },
     "execution_count": 13,
     "metadata": {},
     "output_type": "execute_result"
    }
   ],
   "source": [
    "data = pd.read_csv(\"data/naive-bayes-categorico.csv\")\n",
    "data"
   ]
  },
  {
   "cell_type": "code",
   "execution_count": 25,
   "id": "58850fa5-338d-4852-b294-11eb5b80cbec",
   "metadata": {},
   "outputs": [
    {
     "data": {
      "text/plain": [
       "6"
      ]
     },
     "execution_count": 25,
     "metadata": {},
     "output_type": "execute_result"
    }
   ],
   "source": [
    "snack_media = data[(data['Tipo de Plato'] == 'Snack') & (data['Satisfacción del Cliente'] == 'Baja')]\n",
    "len(snack_media)"
   ]
  },
  {
   "cell_type": "code",
   "execution_count": 33,
   "id": "4323ed38-1c77-4d7e-b66c-92a74af30eec",
   "metadata": {},
   "outputs": [
    {
     "data": {
      "text/plain": [
       "21"
      ]
     },
     "execution_count": 33,
     "metadata": {},
     "output_type": "execute_result"
    }
   ],
   "source": [
    "sat = data[(data['Tipo de Plato'] == 'Principal')]\n",
    "len(sat)"
   ]
  },
  {
   "cell_type": "markdown",
   "id": "48c6d598-9296-427a-8255-cb22b3a3318d",
   "metadata": {},
   "source": [
    "### Ejercicio 2."
   ]
  },
  {
   "cell_type": "markdown",
   "id": "a3c9ebb7-d35b-406b-8e31-f3573312897c",
   "metadata": {},
   "source": [
    "Creamos un dataset sintético con datos nuevos"
   ]
  },
  {
   "cell_type": "code",
   "execution_count": 36,
   "id": "be9ddda7-ff49-4fd2-b6f6-a0241e9ed7b2",
   "metadata": {},
   "outputs": [],
   "source": [
    "np.random.seed(42)\n",
    "dataset = pd.DataFrame({\n",
    "'Interacciones en Electrónica': np.random.poisson(5, 500),\n",
    "'Interacciones en Ropa': np.random.poisson(3, 500),\n",
    "'Interacciones en Alimentos': np.random.poisson(4, 500),\n",
    "'Interacciones en Juguetes': np.random.poisson(2, 500),\n",
    "'Interacciones en Libros': np.random.poisson(1, 500),\n",
    "'Categoría de compra': np.random.choice(['Electrónica', 'Ropa', 'Alimentos',\n",
    "'Juguetes', 'Libros'], 500)\n",
    "})"
   ]
  },
  {
   "cell_type": "code",
   "execution_count": 38,
   "id": "c2259b78-756e-4ea8-80e8-9a26ab897bf0",
   "metadata": {},
   "outputs": [
    {
     "data": {
      "text/html": [
       "<div>\n",
       "<style scoped>\n",
       "    .dataframe tbody tr th:only-of-type {\n",
       "        vertical-align: middle;\n",
       "    }\n",
       "\n",
       "    .dataframe tbody tr th {\n",
       "        vertical-align: top;\n",
       "    }\n",
       "\n",
       "    .dataframe thead th {\n",
       "        text-align: right;\n",
       "    }\n",
       "</style>\n",
       "<table border=\"1\" class=\"dataframe\">\n",
       "  <thead>\n",
       "    <tr style=\"text-align: right;\">\n",
       "      <th></th>\n",
       "      <th>Interacciones en Electrónica</th>\n",
       "      <th>Interacciones en Ropa</th>\n",
       "      <th>Interacciones en Alimentos</th>\n",
       "      <th>Interacciones en Juguetes</th>\n",
       "      <th>Interacciones en Libros</th>\n",
       "      <th>Categoría de compra</th>\n",
       "    </tr>\n",
       "  </thead>\n",
       "  <tbody>\n",
       "    <tr>\n",
       "      <th>0</th>\n",
       "      <td>5</td>\n",
       "      <td>4</td>\n",
       "      <td>2</td>\n",
       "      <td>0</td>\n",
       "      <td>1</td>\n",
       "      <td>Libros</td>\n",
       "    </tr>\n",
       "    <tr>\n",
       "      <th>1</th>\n",
       "      <td>4</td>\n",
       "      <td>2</td>\n",
       "      <td>0</td>\n",
       "      <td>1</td>\n",
       "      <td>0</td>\n",
       "      <td>Electrónica</td>\n",
       "    </tr>\n",
       "    <tr>\n",
       "      <th>2</th>\n",
       "      <td>4</td>\n",
       "      <td>2</td>\n",
       "      <td>2</td>\n",
       "      <td>0</td>\n",
       "      <td>0</td>\n",
       "      <td>Electrónica</td>\n",
       "    </tr>\n",
       "    <tr>\n",
       "      <th>3</th>\n",
       "      <td>5</td>\n",
       "      <td>4</td>\n",
       "      <td>6</td>\n",
       "      <td>3</td>\n",
       "      <td>1</td>\n",
       "      <td>Electrónica</td>\n",
       "    </tr>\n",
       "    <tr>\n",
       "      <th>4</th>\n",
       "      <td>5</td>\n",
       "      <td>4</td>\n",
       "      <td>5</td>\n",
       "      <td>2</td>\n",
       "      <td>1</td>\n",
       "      <td>Juguetes</td>\n",
       "    </tr>\n",
       "    <tr>\n",
       "      <th>...</th>\n",
       "      <td>...</td>\n",
       "      <td>...</td>\n",
       "      <td>...</td>\n",
       "      <td>...</td>\n",
       "      <td>...</td>\n",
       "      <td>...</td>\n",
       "    </tr>\n",
       "    <tr>\n",
       "      <th>495</th>\n",
       "      <td>11</td>\n",
       "      <td>4</td>\n",
       "      <td>4</td>\n",
       "      <td>4</td>\n",
       "      <td>2</td>\n",
       "      <td>Libros</td>\n",
       "    </tr>\n",
       "    <tr>\n",
       "      <th>496</th>\n",
       "      <td>8</td>\n",
       "      <td>3</td>\n",
       "      <td>2</td>\n",
       "      <td>1</td>\n",
       "      <td>2</td>\n",
       "      <td>Electrónica</td>\n",
       "    </tr>\n",
       "    <tr>\n",
       "      <th>497</th>\n",
       "      <td>6</td>\n",
       "      <td>2</td>\n",
       "      <td>4</td>\n",
       "      <td>3</td>\n",
       "      <td>0</td>\n",
       "      <td>Ropa</td>\n",
       "    </tr>\n",
       "    <tr>\n",
       "      <th>498</th>\n",
       "      <td>2</td>\n",
       "      <td>5</td>\n",
       "      <td>2</td>\n",
       "      <td>2</td>\n",
       "      <td>1</td>\n",
       "      <td>Ropa</td>\n",
       "    </tr>\n",
       "    <tr>\n",
       "      <th>499</th>\n",
       "      <td>8</td>\n",
       "      <td>4</td>\n",
       "      <td>3</td>\n",
       "      <td>1</td>\n",
       "      <td>0</td>\n",
       "      <td>Juguetes</td>\n",
       "    </tr>\n",
       "  </tbody>\n",
       "</table>\n",
       "<p>500 rows × 6 columns</p>\n",
       "</div>"
      ],
      "text/plain": [
       "     Interacciones en Electrónica  Interacciones en Ropa  \\\n",
       "0                               5                      4   \n",
       "1                               4                      2   \n",
       "2                               4                      2   \n",
       "3                               5                      4   \n",
       "4                               5                      4   \n",
       "..                            ...                    ...   \n",
       "495                            11                      4   \n",
       "496                             8                      3   \n",
       "497                             6                      2   \n",
       "498                             2                      5   \n",
       "499                             8                      4   \n",
       "\n",
       "     Interacciones en Alimentos  Interacciones en Juguetes  \\\n",
       "0                             2                          0   \n",
       "1                             0                          1   \n",
       "2                             2                          0   \n",
       "3                             6                          3   \n",
       "4                             5                          2   \n",
       "..                          ...                        ...   \n",
       "495                           4                          4   \n",
       "496                           2                          1   \n",
       "497                           4                          3   \n",
       "498                           2                          2   \n",
       "499                           3                          1   \n",
       "\n",
       "     Interacciones en Libros Categoría de compra  \n",
       "0                          1              Libros  \n",
       "1                          0         Electrónica  \n",
       "2                          0         Electrónica  \n",
       "3                          1         Electrónica  \n",
       "4                          1            Juguetes  \n",
       "..                       ...                 ...  \n",
       "495                        2              Libros  \n",
       "496                        2         Electrónica  \n",
       "497                        0                Ropa  \n",
       "498                        1                Ropa  \n",
       "499                        0            Juguetes  \n",
       "\n",
       "[500 rows x 6 columns]"
      ]
     },
     "execution_count": 38,
     "metadata": {},
     "output_type": "execute_result"
    }
   ],
   "source": [
    "dataset"
   ]
  },
  {
   "cell_type": "code",
   "execution_count": 51,
   "id": "3b4b1abf-ee03-411f-a5dc-a138eabf0c6e",
   "metadata": {},
   "outputs": [
    {
     "data": {
      "text/plain": [
       "'El número total de registros es 500'"
      ]
     },
     "execution_count": 51,
     "metadata": {},
     "output_type": "execute_result"
    }
   ],
   "source": [
    "(f'El número total de registros es {dataset.shape[0]}')"
   ]
  }
 ],
 "metadata": {
  "kernelspec": {
   "display_name": "Python 3 (ipykernel)",
   "language": "python",
   "name": "python3"
  },
  "language_info": {
   "codemirror_mode": {
    "name": "ipython",
    "version": 3
   },
   "file_extension": ".py",
   "mimetype": "text/x-python",
   "name": "python",
   "nbconvert_exporter": "python",
   "pygments_lexer": "ipython3",
   "version": "3.12.7"
  }
 },
 "nbformat": 4,
 "nbformat_minor": 5
}
