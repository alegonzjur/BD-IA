{
 "cells": [
  {
   "cell_type": "code",
   "execution_count": 10,
   "id": "0763f01f-e221-4d0c-bb7c-19e46956a6d5",
   "metadata": {},
   "outputs": [],
   "source": [
    "#pip install sympy"
   ]
  },
  {
   "cell_type": "code",
   "execution_count": 21,
   "id": "e4f4896a-0926-4d5a-9c8e-e2f02930317c",
   "metadata": {},
   "outputs": [],
   "source": [
    "import numpy as np \n",
    "import pandas as pd \n",
    "import matplotlib.pyplot as plt\n",
    "import math\n",
    "from sklearn.linear_model import LinearRegression\n",
    "from sympy import symbols, Eq, solve"
   ]
  },
  {
   "cell_type": "markdown",
   "id": "108e6d24-2210-4ea7-afd9-e0df956ae00e",
   "metadata": {},
   "source": [
    "### Pequeña IA de prediccion"
   ]
  },
  {
   "cell_type": "code",
   "execution_count": 7,
   "id": "8545c19d-c672-40df-9bc4-93bee54d17cb",
   "metadata": {
    "scrolled": true
   },
   "outputs": [
    {
     "name": "stdout",
     "output_type": "stream",
     "text": [
      "Prediccion para X=5:  [15.]\n"
     ]
    }
   ],
   "source": [
    "X = np.array([[1],[2],[3],[4]])\n",
    "y = np.array([3,6,9,12])\n",
    "\n",
    "model = LinearRegression()\n",
    "model.fit(X,y)\n",
    "\n",
    "prediccion = model.predict([[5]])\n",
    "print('Prediccion para X=5: ', prediccion)"
   ]
  },
  {
   "cell_type": "markdown",
   "id": "bf61eb28-4707-4517-ba9f-1f0766c08214",
   "metadata": {},
   "source": [
    "### Sympy."
   ]
  },
  {
   "cell_type": "code",
   "execution_count": 15,
   "id": "ddcf08b8-2ed8-4e61-be36-6562d4f6fc07",
   "metadata": {},
   "outputs": [
    {
     "name": "stdout",
     "output_type": "stream",
     "text": [
      "Eq(3*x + 2, 11)\n",
      "Solucion de la ecuacion, Eq(3*x + 2, 11) es X=[3]\n"
     ]
    }
   ],
   "source": [
    "x,y = symbols(\"x y\") #Variables simbolicas\n",
    "\n",
    "#Definimos ecuacion para resoverla. \n",
    "equation = Eq(3*x + 2, 11)\n",
    "print(equation)\n",
    "solucion = solve(equation, x)\n",
    "print(f\"Solucion de la ecuacion, {equation} es X={solucion}\")"
   ]
  },
  {
   "cell_type": "markdown",
   "id": "8e7def9f-8cb5-4e8a-b8c1-e77eda8a50da",
   "metadata": {},
   "source": [
    "### Tipos de numeros"
   ]
  },
  {
   "cell_type": "code",
   "execution_count": 17,
   "id": "96224f4a-fad5-4d6a-83d3-33adb4994446",
   "metadata": {},
   "outputs": [
    {
     "name": "stdout",
     "output_type": "stream",
     "text": [
      "Numeros naturales: [1, 2, 3, 4, 5, 6, 7, 8, 9, 10]\n"
     ]
    }
   ],
   "source": [
    "naturales = list(range(1,11))\n",
    "print(f\"Numeros naturales: {naturales}\")"
   ]
  },
  {
   "cell_type": "code",
   "execution_count": 18,
   "id": "b9200b9e-bd17-478f-85fe-603f5ec0693a",
   "metadata": {},
   "outputs": [
    {
     "name": "stdout",
     "output_type": "stream",
     "text": [
      "Numeros enteros: [-5, -4, -3, -2, -1, 0, 1, 2, 3, 4, 5]\n"
     ]
    }
   ],
   "source": [
    "enteros = list(range(-5,6))\n",
    "print(f\"Numeros enteros: {enteros}\")"
   ]
  },
  {
   "cell_type": "code",
   "execution_count": 20,
   "id": "abfd9244-d1eb-4860-b1de-69a578465e26",
   "metadata": {},
   "outputs": [
    {
     "name": "stdout",
     "output_type": "stream",
     "text": [
      "Numeros racionales: 0.5,-0.75\n"
     ]
    }
   ],
   "source": [
    "racional_1 = 1/2\n",
    "racional_2 = -3/4\n",
    "print(f\"Numeros racionales: {racional_1},{racional_2}\")"
   ]
  },
  {
   "cell_type": "code",
   "execution_count": 24,
   "id": "120c574d-4e32-40bd-9f35-dce0894f9bad",
   "metadata": {},
   "outputs": [
    {
     "name": "stdout",
     "output_type": "stream",
     "text": [
      "Numero irracional: 1.4142135623730951\n"
     ]
    }
   ],
   "source": [
    "irracional = math.sqrt(2)\n",
    "print(f\"Numero irracional: {irracional}\")"
   ]
  }
 ],
 "metadata": {
  "kernelspec": {
   "display_name": "Python 3",
   "language": "python",
   "name": "python3"
  },
  "language_info": {
   "codemirror_mode": {
    "name": "ipython",
    "version": 3
   },
   "file_extension": ".py",
   "mimetype": "text/x-python",
   "name": "python",
   "nbconvert_exporter": "python",
   "pygments_lexer": "ipython3",
   "version": "3.13.0"
  }
 },
 "nbformat": 4,
 "nbformat_minor": 5
}
