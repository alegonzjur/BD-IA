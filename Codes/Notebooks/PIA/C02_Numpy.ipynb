{
 "cells": [
  {
   "cell_type": "code",
   "execution_count": 2,
   "metadata": {},
   "outputs": [],
   "source": [
    "import numpy as np"
   ]
  },
  {
   "cell_type": "markdown",
   "metadata": {},
   "source": [
    "### Unión de arrays."
   ]
  },
  {
   "cell_type": "code",
   "execution_count": 3,
   "metadata": {},
   "outputs": [
    {
     "name": "stdout",
     "output_type": "stream",
     "text": [
      "[1 2 3 4 5 6]\n",
      "[4 5 6 1 2 3]\n"
     ]
    }
   ],
   "source": [
    "ma_01 = np.array([1,2,3])\n",
    "ma_02 = np.array([4,5,6])\n",
    "\n",
    "#Utilizamos dos arrays para generar un array uniendo los dos arrays anteriores.\n",
    "ma_t = np.concatenate((ma_01, ma_02))\n",
    "print(ma_t)\n",
    "#El orden depende de como lo pongamos en la funcion concatenate.\n",
    "ma_t1 = np.concatenate((ma_02, ma_01))\n",
    "print(ma_t1)"
   ]
  },
  {
   "cell_type": "code",
   "execution_count": 4,
   "metadata": {},
   "outputs": [
    {
     "name": "stdout",
     "output_type": "stream",
     "text": [
      "[[ 4  5  6  8  9 10]\n",
      " [ 1  2  3 11 12 13]]\n",
      "[[ 4  5  6]\n",
      " [ 1  2  3]\n",
      " [ 8  9 10]\n",
      " [11 12 13]]\n"
     ]
    }
   ],
   "source": [
    "ma_03 = np.array([[4,5,6],[1,2,3]])\n",
    "ma_04 = np.array([[8,9,10],[11,12,13]])\n",
    "ma_t3 = np.concatenate((ma_03, ma_04), axis=1)\n",
    "ma_t4 = np.concatenate((ma_03, ma_04), axis=0)\n",
    "#Axis une los arrays juntados las filas. Por ejemplo, si Axis es 1, junta las primeras filas de ambas matrices en 1. Axis tiene como máximo n-1, siendo n el numero de dimensiones.\n",
    "#print(ma_03)\n",
    "#print(ma_04)\n",
    "print(ma_t3)\n",
    "print(ma_t4)"
   ]
  },
  {
   "cell_type": "code",
   "execution_count": 5,
   "metadata": {},
   "outputs": [],
   "source": [
    "mi_array = np.array([[[1,3,5,7],[1,2,3,4]],[[2,4,6,8],[9,7,5,3]]])"
   ]
  },
  {
   "cell_type": "markdown",
   "metadata": {},
   "source": [
    "### Separar arrays."
   ]
  },
  {
   "cell_type": "code",
   "execution_count": null,
   "metadata": {},
   "outputs": [
    {
     "name": "stdout",
     "output_type": "stream",
     "text": [
      "[1 2 3 4 5 6]\n",
      "[array([1, 2, 3]), array([4, 5, 6])]\n"
     ]
    }
   ],
   "source": [
    "ma = np.array([1,2,3,4,5,6])\n",
    "print(ma)\n",
    "#Lo dividimos en los trozos que queramos. Por ejemplo, 2.\n",
    "n_array = np.array_split(ma, 2)\n",
    "print(n_array)\n"
   ]
  },
  {
   "cell_type": "markdown",
   "metadata": {},
   "source": [
    "### Búsqueda de elementos."
   ]
  },
  {
   "cell_type": "code",
   "execution_count": null,
   "metadata": {},
   "outputs": [
    {
     "name": "stdout",
     "output_type": "stream",
     "text": [
      "[1 2 3 3 2 2 4 5 5 6 3]\n",
      "(array([1, 4, 5]),)\n"
     ]
    }
   ],
   "source": [
    "array = np.array([1,2,3,3,2,2,4,5,5,6,3])\n",
    "print(array)\n",
    "#Devuelve los indices en los que el array es igual a un dato.\n",
    "indices = np.where(array==2)\n",
    "print(indices)"
   ]
  },
  {
   "cell_type": "markdown",
   "metadata": {},
   "source": [
    "### Ordenar un array."
   ]
  },
  {
   "cell_type": "code",
   "execution_count": 13,
   "metadata": {},
   "outputs": [
    {
     "name": "stdout",
     "output_type": "stream",
     "text": [
      "[1 2 3 3 2 2 4 5 5 6 3]\n",
      "[1 2 2 2 3 3 3 4 5 5 6]\n"
     ]
    }
   ],
   "source": [
    "array = np.array([1,2,3,3,2,2,4,5,5,6,3])\n",
    "print(array)\n",
    "array_ordenado = np.sort(array)\n",
    "print(array_ordenado)"
   ]
  },
  {
   "cell_type": "markdown",
   "metadata": {},
   "source": [
    "### Operaciones de matrices."
   ]
  },
  {
   "cell_type": "code",
   "execution_count": 14,
   "metadata": {},
   "outputs": [
    {
     "name": "stdout",
     "output_type": "stream",
     "text": [
      "[[12 14 16]\n",
      " [12 14 16]]\n"
     ]
    }
   ],
   "source": [
    "ma_03 = np.array([[4,5,6],[1,2,3]])\n",
    "ma_04 = np.array([[8,9,10],[11,12,13]])\n",
    "suma = ma_03 + ma_04\n",
    "print(suma)"
   ]
  }
 ],
 "metadata": {
  "kernelspec": {
   "display_name": "Python 3",
   "language": "python",
   "name": "python3"
  },
  "language_info": {
   "codemirror_mode": {
    "name": "ipython",
    "version": 3
   },
   "file_extension": ".py",
   "mimetype": "text/x-python",
   "name": "python",
   "nbconvert_exporter": "python",
   "pygments_lexer": "ipython3",
   "version": "3.13.0"
  }
 },
 "nbformat": 4,
 "nbformat_minor": 2
}
