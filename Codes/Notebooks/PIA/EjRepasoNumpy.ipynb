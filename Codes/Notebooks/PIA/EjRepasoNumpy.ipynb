{
 "cells": [
  {
   "cell_type": "markdown",
   "metadata": {},
   "source": [
    "Importamos la librería."
   ]
  },
  {
   "cell_type": "code",
   "execution_count": 2,
   "metadata": {},
   "outputs": [],
   "source": [
    "import numpy as np"
   ]
  },
  {
   "cell_type": "markdown",
   "metadata": {},
   "source": [
    "Actividad 1: Creación de Arrays.\n",
    "\n",
    "Crea un array unidimensional con los números del 1 al 10.\n",
    "\n",
    "Crea una matriz de 2x3 con los números del 1 al 6.\n",
    "\n",
    "Verifica cuántas dimensiones tiene cada array.\n"
   ]
  },
  {
   "cell_type": "code",
   "execution_count": 3,
   "metadata": {},
   "outputs": [
    {
     "name": "stdout",
     "output_type": "stream",
     "text": [
      "[ 1  2  3  4  5  6  7  8  9 10]\n",
      "[[1 2 3]\n",
      " [4 5 6]]\n",
      "El primer array tiene unas dimensiones de (10,).\n",
      "El segundo array tiene unas dimensiones de (2, 3).\n"
     ]
    }
   ],
   "source": [
    "# Array del 1 al 10.\n",
    "array = np.arange(1,11)\n",
    "print(array)\n",
    "# Array de matriz 2x3 con 1 al 6\n",
    "array_2 = np.array([[1,2,3],[4,5,6]])\n",
    "print(array_2)\n",
    "\n",
    "# Dimensiones de cada array.\n",
    "print(f'El primer array tiene unas dimensiones de {array.shape}.')\n",
    "print(f'El segundo array tiene unas dimensiones de {array_2.shape}.')"
   ]
  },
  {
   "cell_type": "markdown",
   "metadata": {},
   "source": [
    "Actividad 2: Indexado y Slicing\n",
    "\n",
    "Usa un array unidimensional para seleccionar el tercer elemento.\n",
    "\n",
    "Extrae una submatriz de 2x2 de una matriz 3x3.\n",
    "\n",
    "Experimenta con índices negativos para acceder a los últimos elementos de un array.\n"
   ]
  },
  {
   "cell_type": "code",
   "execution_count": 4,
   "metadata": {},
   "outputs": [
    {
     "name": "stdout",
     "output_type": "stream",
     "text": [
      "3\n",
      "La matriz original es:\n",
      "[[1 2 3]\n",
      " [4 5 6]\n",
      " [7 8 9]]\n",
      "La matriz extraida es:\n",
      "[[1 2]\n",
      " [4 5]]\n",
      "10\n",
      "9\n",
      "8\n"
     ]
    }
   ],
   "source": [
    "# Seleccionamos el tercer elemento del array unidimensional.\n",
    "print(array[2])\n",
    "\n",
    "# Extraemos una submatriz 2x2 de una 3x3.\n",
    "matriz = np.array([[1,2,3],[4,5,6],[7,8,9]])\n",
    "matriz_ext = matriz[:2,:2]\n",
    "print('La matriz original es:')\n",
    "print(matriz)\n",
    "print('La matriz extraida es:')\n",
    "print(matriz_ext)\n",
    "# Accedemos a los últimos índices de un array.\n",
    "print(array[-1])\n",
    "print(array[-2])\n",
    "print(array[-3])"
   ]
  },
  {
   "cell_type": "markdown",
   "metadata": {},
   "source": [
    "Actividad 3: Métodos Copy y View\n",
    "\n",
    "Crea un array y usa copy() para hacer una copia.\n",
    "\n",
    "Modifica la copia y observa si afecta al array original.\n",
    "\n",
    "Haz lo mismo con view() y compara los resultados."
   ]
  },
  {
   "cell_type": "code",
   "execution_count": 8,
   "metadata": {},
   "outputs": [
    {
     "name": "stdout",
     "output_type": "stream",
     "text": [
      "[1 2 3 4 5]\n",
      "[1 2 3 4 5]\n",
      "[1 2 3 4 5]\n",
      "[  1   2   3   4 234]\n",
      "[1 2 3 4 5 6 7]\n",
      "[1 2 3 4 5 6 7]\n",
      "[  1   2   3 785   5   6   7]\n",
      "[  1   2   3 785   5   6   7]\n"
     ]
    }
   ],
   "source": [
    "# Creamos un array y hacemos una copia en otro array.\n",
    "array = np.array([1,2,3,4,5])\n",
    "array2 = array.copy()\n",
    "print(array)\n",
    "print(array2)\n",
    "# Modificamos la copia y comprobamos que no modifica el array original.\n",
    "array2[4] = 234\n",
    "print(array)\n",
    "print(array2)\n",
    "\n",
    "# Realizamos las mismas operaciones con view.\n",
    "array3 = np.array([1,2,3,4,5,6,7])\n",
    "nuevoarray = array3.view()\n",
    "print(array3)\n",
    "print(nuevoarray)\n",
    "array3[3] = 785\n",
    "print(array3)\n",
    "print(nuevoarray)\n"
   ]
  },
  {
   "cell_type": "markdown",
   "metadata": {},
   "source": [
    "Actividad 4: Modificar el Shape\n",
    "\n",
    "Crea un array unidimensional con 12 elementos y cámbialo a una matriz de 3x4.\n",
    "\n",
    "Intenta cambiarlo a una matriz 5x2 y describe por qué no funciona.\n"
   ]
  },
  {
   "cell_type": "code",
   "execution_count": 16,
   "metadata": {},
   "outputs": [
    {
     "name": "stdout",
     "output_type": "stream",
     "text": [
      "[ 1  2  3  4  5  6  7  8  9 10 11 12]\n",
      "[[ 1  2  3  4]\n",
      " [ 5  6  7  8]\n",
      " [ 9 10 11 12]]\n"
     ]
    }
   ],
   "source": [
    "# Creamos un array unidimensional con 12 elementos y cambiamos a matriz 3x4.\n",
    "array = np.arange(1,13)\n",
    "print(array)\n",
    "array = array.reshape([3,4])\n",
    "print(array)\n",
    "\n",
    "# Intentamos cambiarlo a matriz 5x2.\n",
    "# array = array.reshape([5,2])\n",
    "# print(array)\n",
    "\n",
    "# Encontramos error : cannot reshape array of size 12 into shape (5,2). Tiene 12 elementos para un array que necesita 10."
   ]
  },
  {
   "cell_type": "markdown",
   "metadata": {},
   "source": [
    "Actividad 5: Iteración\n",
    "\n",
    "Itera sobre un array unidimensional con un bucle for y muestra sus elementos.\n",
    "\n",
    "Haz lo mismo con una matriz de 2x3, accediendo a cada elemento usando dos bucles anidados.\n"
   ]
  },
  {
   "cell_type": "code",
   "execution_count": 20,
   "metadata": {},
   "outputs": [
    {
     "name": "stdout",
     "output_type": "stream",
     "text": [
      "10\n",
      "20\n",
      "30\n",
      "40\n",
      "50\n",
      "1\n",
      "2\n",
      "3\n",
      "4\n",
      "5\n",
      "6\n"
     ]
    }
   ],
   "source": [
    "# Iteramos sobre un array unidimensional con un bucle for.\n",
    "array = np.arange(10,51,10)\n",
    "for el in array:\n",
    "    print(el)\n",
    "\n",
    "# Realizamos el mismo proceso con una matriz 2x3.\n",
    "array = np.array([[1,2,3],[4,5,6]])\n",
    "for fila in array:\n",
    "    for elem in fila:\n",
    "        print(elem)"
   ]
  },
  {
   "cell_type": "markdown",
   "metadata": {},
   "source": [
    "Actividad 6: Unir y Separar Arrays\n",
    "\n",
    "Crea dos arrays unidimensionales y únelos concatenándolos.\n",
    "\n",
    "Divide un array de 10 elementos en 3 partes usando.\n"
   ]
  },
  {
   "cell_type": "code",
   "execution_count": 32,
   "metadata": {},
   "outputs": [
    {
     "name": "stdout",
     "output_type": "stream",
     "text": [
      "[1 2 3 4 5 6]\n",
      "[10 11 12 13 14 15]\n",
      "[ 1  2  3  4  5  6 10 11 12 13 14 15]\n",
      "[ 1  2  3  4  5  6  7  8  9 10]\n",
      "[array([1, 2, 3, 4]), array([5, 6, 7]), array([ 8,  9, 10])]\n",
      "[1 2 3 4]\n",
      "[5 6 7]\n",
      "[ 8  9 10]\n"
     ]
    }
   ],
   "source": [
    "# Creamos dos arrays unidimensionales y los concatenamos.\n",
    "ar1 = np.arange(1,7)\n",
    "ar2 = np.arange(10,16)\n",
    "array = np.concatenate((ar1, ar2))\n",
    "print(ar1)\n",
    "print(ar2)\n",
    "print(array)\n",
    "\n",
    "# Dividimos un array de 10 elementos en 3 partes.\n",
    "ar10 = np.arange(1,11)\n",
    "print(ar10)\n",
    "division = np.array_split(ar10,3)\n",
    "print(division)\n",
    "for fila in division:\n",
    "    print(fila)\n"
   ]
  },
  {
   "cell_type": "markdown",
   "metadata": {},
   "source": [
    "Actividad 7: Generación de Números Aleatorios\n",
    "\n",
    "Genera 5 números enteros aleatorios entre 0 y 20 con random.randint.\n",
    "\n",
    "Genera una matriz de 3x3 con números decimales aleatorios entre 0 y 1 usando random.rand."
   ]
  },
  {
   "cell_type": "code",
   "execution_count": 33,
   "metadata": {},
   "outputs": [
    {
     "name": "stdout",
     "output_type": "stream",
     "text": [
      "[ 4  3  3 15  3]\n",
      "[[0.9003732  0.21106479 0.66732933]\n",
      " [0.01464984 0.51228958 0.72781957]\n",
      " [0.9538229  0.92775652 0.16590756]]\n"
     ]
    }
   ],
   "source": [
    "# Generamos 5 enteros entre 0 y 20.\n",
    "enteros = np.random.randint(0,21,size=5)\n",
    "print(enteros)\n",
    "\n",
    "# Generamos matriz 3x3 con numeros decimales aleatorios entre 0 y 1.\n",
    "matriz = np.random.rand(3,3)\n",
    "print(matriz)"
   ]
  },
  {
   "cell_type": "markdown",
   "metadata": {},
   "source": [
    "Actividad 8: Búsqueda de Elementos\n",
    "\n",
    "Encontrar los índices de los elementos iguales a 5 en un array.\n",
    "\n",
    "Usa una condición para buscar elementos mayores que 10 en un array.\n"
   ]
  },
  {
   "cell_type": "code",
   "execution_count": 39,
   "metadata": {},
   "outputs": [
    {
     "name": "stdout",
     "output_type": "stream",
     "text": [
      "(array([ 3,  6, 10, 12, 15, 18]),)\n",
      "11\n",
      "78\n",
      "45\n",
      "87\n",
      "67\n",
      "93\n"
     ]
    }
   ],
   "source": [
    "# Encontrar los indices de los elementos iguales a 5 en un array.\n",
    "array = np.array([1,2,3,5,4,6,5,7,8,9,5,6,5,4,7,5,3,4,5])\n",
    "indices = np.where(array == 5)\n",
    "print(indices)\n",
    "\n",
    "# Usamos una condicion para buscar elementos mayores que 10 en un array.\n",
    "array2 = np.array([11,4,6,78,45,1,2,9,87,5,67,93])\n",
    "for el in array2:\n",
    "    if el > 10:\n",
    "        print(el)"
   ]
  },
  {
   "cell_type": "markdown",
   "metadata": {},
   "source": [
    "Actividad 9: Operaciones Matemáticas\n",
    "\n",
    "Crea dos arrays de igual longitud y realiza suma, resta, multiplicación y división entre ellos.\n",
    "\n",
    "Calcula el valor absoluto de un array con números negativos.\n"
   ]
  },
  {
   "cell_type": "code",
   "execution_count": 41,
   "metadata": {},
   "outputs": [
    {
     "name": "stdout",
     "output_type": "stream",
     "text": [
      "[[12 14 16 18 20]\n",
      " [22 24 26 28 30]]\n",
      "[[10 10 10 10 10]\n",
      " [10 10 10 10 10]]\n",
      "[[-10 -10 -10 -10 -10]\n",
      " [-10 -10 -10 -10 -10]]\n",
      "[[ 11  24  39  56  75]\n",
      " [ 96 119 144 171 200]]\n",
      "[[11.          6.          4.33333333  3.5         3.        ]\n",
      " [ 2.66666667  2.42857143  2.25        2.11111111  2.        ]]\n",
      "[[10 10 10 10 10]\n",
      " [10 10 10 10 10]]\n"
     ]
    }
   ],
   "source": [
    "# Creamos 2 arrays de la misma longitud y realizamos las operaciones básicas entre ellos.\n",
    "arr1 = np.array([[1,2,3,4,5],[6,7,8,9,10]])\n",
    "arr2 = np.array([[11,12,13,14,15],[16,17,18,19,20]])\n",
    "suma = arr1 + arr2 \n",
    "resta1 = arr2 - arr1 \n",
    "resta2 = arr1 - arr2 \n",
    "mult = arr1 * arr2 \n",
    "div = arr2 / arr1 \n",
    "print(suma)\n",
    "print(resta1)\n",
    "print(resta2)\n",
    "print(mult)\n",
    "print(div)\n",
    "\n",
    "# Aprovechamos el array resta2 para calcularle el valor absoluto.\n",
    "vabs = np.abs(resta2)\n",
    "print(vabs)"
   ]
  }
 ],
 "metadata": {
  "kernelspec": {
   "display_name": "Python 3",
   "language": "python",
   "name": "python3"
  },
  "language_info": {
   "codemirror_mode": {
    "name": "ipython",
    "version": 3
   },
   "file_extension": ".py",
   "mimetype": "text/x-python",
   "name": "python",
   "nbconvert_exporter": "python",
   "pygments_lexer": "ipython3",
   "version": "3.13.0"
  }
 },
 "nbformat": 4,
 "nbformat_minor": 2
}
