{
 "cells": [
  {
   "cell_type": "markdown",
   "metadata": {},
   "source": [
    "Importamos la librería."
   ]
  },
  {
   "cell_type": "code",
   "execution_count": 1,
   "metadata": {},
   "outputs": [],
   "source": [
    "import numpy as np"
   ]
  },
  {
   "cell_type": "markdown",
   "metadata": {},
   "source": [
    "Actividad 1: Creación de Arrays.\n",
    "\n",
    "Crea un array unidimensional con los números del 1 al 10.\n",
    "\n",
    "Crea una matriz de 2x3 con los números del 1 al 6.\n",
    "\n",
    "Verifica cuántas dimensiones tiene cada array.\n"
   ]
  },
  {
   "cell_type": "code",
   "execution_count": 11,
   "metadata": {},
   "outputs": [
    {
     "name": "stdout",
     "output_type": "stream",
     "text": [
      "[ 1  2  3  4  5  6  7  8  9 10]\n",
      "[[1 2 3]\n",
      " [4 5 6]]\n",
      "El primer array tiene unas dimensiones de (10,).\n",
      "El segundo array tiene unas dimensiones de (2, 3).\n"
     ]
    }
   ],
   "source": [
    "# Array del 1 al 10.\n",
    "array = np.arange(1,11)\n",
    "print(array)\n",
    "# Array de matriz 2x3 con 1 al 6\n",
    "array_2 = np.array([[1,2,3],[4,5,6]])\n",
    "print(array_2)\n",
    "\n",
    "# Dimensiones de cada array.\n",
    "print(f'El primer array tiene unas dimensiones de {array.shape}.')\n",
    "print(f'El segundo array tiene unas dimensiones de {array_2.shape}.')"
   ]
  },
  {
   "cell_type": "markdown",
   "metadata": {},
   "source": [
    "Actividad 2: Indexado y Slicing\n",
    "\n",
    "Usa un array unidimensional para seleccionar el tercer elemento.\n",
    "\n",
    "Extrae una submatriz de 2x2 de una matriz 3x3.\n",
    "\n",
    "Experimenta con índices negativos para acceder a los últimos elementos de un array.\n"
   ]
  },
  {
   "cell_type": "code",
   "execution_count": 18,
   "metadata": {},
   "outputs": [
    {
     "name": "stdout",
     "output_type": "stream",
     "text": [
      "3\n",
      "La matriz original es:\n",
      "[[1 2 3]\n",
      " [4 5 6]\n",
      " [7 8 9]]\n",
      "La matriz extraida es:\n",
      "[[1 2]\n",
      " [4 5]]\n",
      "10\n",
      "9\n",
      "8\n"
     ]
    }
   ],
   "source": [
    "# Seleccionamos el tercer elemento del array unidimensional.\n",
    "print(array[2])\n",
    "\n",
    "#Extraemos una submatriz 2x2 de una 3x3.\n",
    "\n",
    "matriz = np.array([[1,2,3],[4,5,6],[7,8,9]])\n",
    "matriz_ext = matriz[:2,:2]\n",
    "print('La matriz original es:')\n",
    "print(matriz)\n",
    "print('La matriz extraida es:')\n",
    "print(matriz_ext)\n",
    "# Accedemos a los últimos índices de un array.\n",
    "print(array[-1])\n",
    "print(array[-2])\n",
    "print(array[-3])"
   ]
  }
 ],
 "metadata": {
  "kernelspec": {
   "display_name": "Python 3",
   "language": "python",
   "name": "python3"
  },
  "language_info": {
   "codemirror_mode": {
    "name": "ipython",
    "version": 3
   },
   "file_extension": ".py",
   "mimetype": "text/x-python",
   "name": "python",
   "nbconvert_exporter": "python",
   "pygments_lexer": "ipython3",
   "version": "3.13.0"
  }
 },
 "nbformat": 4,
 "nbformat_minor": 2
}
