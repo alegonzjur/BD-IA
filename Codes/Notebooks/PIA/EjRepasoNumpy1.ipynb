{
 "cells": [
  {
   "cell_type": "code",
   "execution_count": 2,
   "metadata": {},
   "outputs": [],
   "source": [
    "import numpy as np\n",
    "from numpy import random"
   ]
  },
  {
   "cell_type": "markdown",
   "metadata": {},
   "source": [
    "### Actividades propuestas"
   ]
  },
  {
   "cell_type": "markdown",
   "metadata": {},
   "source": [
    "1. Creación y manipulación de arrays\n",
    "- Crea un array de números enteros del 1 al 10.\n",
    "- Convierte este array en una matriz 2x5 y verifica su atributo shape.\n",
    "- Cambia la forma de la matriz anterior a una matriz 5x2 usando reshape."
   ]
  },
  {
   "cell_type": "code",
   "execution_count": 6,
   "metadata": {},
   "outputs": [
    {
     "name": "stdout",
     "output_type": "stream",
     "text": [
      "[ 1  2  3  4  5  6  7  8  9 10]\n",
      "[[ 1  2  3  4  5]\n",
      " [ 6  7  8  9 10]]\n",
      "Las dimensiones de la matriz son: (2, 5).\n",
      "[[ 1  2]\n",
      " [ 3  4]\n",
      " [ 5  6]\n",
      " [ 7  8]\n",
      " [ 9 10]]\n",
      "Las dimensiones de la matriz son: (5, 2).\n"
     ]
    }
   ],
   "source": [
    "# Crear un array de numeros enteros del 1 al 10. \n",
    "ar = np.arange(1,11)\n",
    "print(ar)\n",
    "\n",
    "# Convertir este array en una matriz 2x5 y verificamos el shape.\n",
    "ar1 = ar.reshape(2,5)\n",
    "print(ar1)\n",
    "print(f'Las dimensiones de la matriz son: {ar1.shape}.')\n",
    "\n",
    "# Cambiamos la froma de la matriz al 5x2. \n",
    "ar2 = ar1.reshape(5,2)\n",
    "print(ar2)\n",
    "print(f'Las dimensiones de la matriz son: {ar2.shape}.')"
   ]
  },
  {
   "cell_type": "markdown",
   "metadata": {},
   "source": [
    "2. Indexación y slicing\n",
    "- Crea una matriz 4x4 con números aleatorios entre 0 y 20.\n",
    "- Extrae:\n",
    "    - La primera fila.\n",
    "    - La última columna.\n",
    "    - Los elementos en las posiciones [0,1], [2,3] y [3,0].\n",
    "- Extrae los elementos de la matriz utilizando un rango y un paso, por ejemplo, columnas pares."
   ]
  },
  {
   "cell_type": "code",
   "execution_count": 17,
   "metadata": {},
   "outputs": [
    {
     "name": "stdout",
     "output_type": "stream",
     "text": [
      "[[18  5 13  8]\n",
      " [15  1 16 17]\n",
      " [ 0  3  0 17]\n",
      " [15 18  3  9]]\n",
      "[18  5 13  8]\n",
      "[ 8 17 17  9]\n",
      "[ 5 17 15]\n",
      "[[18 13]\n",
      " [15 16]\n",
      " [ 0  0]\n",
      " [15  3]]\n"
     ]
    }
   ],
   "source": [
    "# Creamos matriz 4x4 con numeros aleatorios entre 0 y 20. \n",
    "mat = random.randint(0,20, size=(4,4))\n",
    "print(mat)\n",
    "# Extraemos la primera fila.\n",
    "fila1 = mat[0]\n",
    "print(fila1)\n",
    "# Extraemos la ultima columna.\n",
    "ult_col = mat[:,-1]\n",
    "print(ult_col)\n",
    "# Extraemos elementos concretos.\n",
    "especificos = np.array([mat[0,1], mat[2,3], mat[3,0]])\n",
    "print(especificos)\n",
    "# Extraemos las columnas pares utilizando rango y paso.\n",
    "col_par = mat[:,::2]\n",
    "print(col_par)"
   ]
  },
  {
   "cell_type": "markdown",
   "metadata": {},
   "source": [
    "3. Operaciones con arrays\n",
    "- Crea dos arrays: uno de valores del 1 al 5 y otro del 6 al 10.\n",
    "- Realiza las siguientes operaciones:\n",
    "    - Suma.\n",
    "    - Resta.\n",
    "    - Multiplicación.\n",
    "    - División.\n",
    "- Aplica la función np.log al resultado de la suma."
   ]
  },
  {
   "cell_type": "code",
   "execution_count": 20,
   "metadata": {},
   "outputs": [
    {
     "name": "stdout",
     "output_type": "stream",
     "text": [
      "La suma es [ 7  9 11 13 15].\n",
      "La resta es [-5 -5 -5 -5 -5].\n",
      "La multiplicacion es [ 6 14 24 36 50].\n",
      "La división es [0.16666667 0.28571429 0.375      0.44444444 0.5       ].\n",
      "[1.94591015 2.19722458 2.39789527 2.56494936 2.7080502 ]\n"
     ]
    }
   ],
   "source": [
    "# Creamos los dos arrays.\n",
    "a1 = np.arange(1,6)\n",
    "a2 = np.arange(6,11)\n",
    "\n",
    "# Realizamos las operaciones.\n",
    "suma = np.add(a1,a2)\n",
    "resta = np.subtract(a1,a2)\n",
    "multi = np.multiply(a1,a2)\n",
    "division = np.divide(a1,a2)\n",
    "print(f'La suma es {suma}.')\n",
    "print(f'La resta es {resta}.')\n",
    "print(f'La multiplicacion es {multi}.')\n",
    "print(f'La división es {division}.')\n",
    "\n",
    "# Aplicamos la funcion np.log a la suma. \n",
    "log = np.log(suma)\n",
    "print(log)\n"
   ]
  },
  {
   "cell_type": "markdown",
   "metadata": {},
   "source": [
    "\n",
    "4. Uso del módulo random\n",
    "- Genera:\n",
    "    - Un array de 10 números enteros aleatorios entre 0 y 50.\n",
    "    - Una matriz 3x3 de números decimales aleatorios entre 0 y 1.\n",
    "- Usa el método choice para seleccionar 5 elementos aleatorios de un array dado, alterando las probabilidades de selección."
   ]
  },
  {
   "cell_type": "code",
   "execution_count": 29,
   "metadata": {},
   "outputs": [
    {
     "name": "stdout",
     "output_type": "stream",
     "text": [
      "[40 25  6 49 49 45 29 40 47 29]\n",
      "[[0.46181345 0.32878028 0.4721253 ]\n",
      " [0.50748213 0.34506447 0.7928274 ]\n",
      " [0.598815   0.24736806 0.4334237 ]]\n",
      "[45 29 47 49 25]\n"
     ]
    }
   ],
   "source": [
    "# Generamos array de 10 enteros aleatorios entre 0 y 50.\n",
    "rand_arr = random.randint(0,51, size=10)\n",
    "print(rand_arr)\n",
    "\n",
    "# Generamos matriz de 3x3 de numeros decimales aleatorios entre 0 y 1. \n",
    "rand_dec_arr = random.rand(3,3)\n",
    "print(rand_dec_arr)\n",
    "\n",
    "# Utilizamos metodo choice para seleccionar 5 elementos del array rand_arr, alterando sus pesos. Vamos a generar las probabilidades aleatoriamente.\n",
    "prob = np.array([0.1,0.2,0.05,0.1,0.1,0.1,0.1,0.05,0.1,0.1])\n",
    "choice = random.choice(rand_arr, p=prob, size=5)\n",
    "print(choice)\n"
   ]
  },
  {
   "cell_type": "markdown",
   "metadata": {},
   "source": [
    "5. Manipulación de arrays\n",
    "- Crea dos arrays bidimensionales (3x3) con valores consecutivos.\n",
    "- Únelos:\n",
    "    - En el eje 0.\n",
    "    - En el eje 1.\n",
    "- Divide uno de los arrays en 3 partes iguales."
   ]
  },
  {
   "cell_type": "markdown",
   "metadata": {},
   "source": [
    "6. Funciones adicionales\n",
    "- Calcula:\n",
    "    - La suma acumulativa de un array de números del 1 al 10.\n",
    "    - El producto acumulativo del mismo array.\n",
    "    - El logaritmo en base 2 de los valores obtenidos.\n",
    "- Encuentra los valores únicos en un array con valores repetidos."
   ]
  }
 ],
 "metadata": {
  "kernelspec": {
   "display_name": "Python 3",
   "language": "python",
   "name": "python3"
  },
  "language_info": {
   "codemirror_mode": {
    "name": "ipython",
    "version": 3
   },
   "file_extension": ".py",
   "mimetype": "text/x-python",
   "name": "python",
   "nbconvert_exporter": "python",
   "pygments_lexer": "ipython3",
   "version": "3.13.0"
  }
 },
 "nbformat": 4,
 "nbformat_minor": 2
}
