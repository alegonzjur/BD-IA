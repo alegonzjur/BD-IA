{
 "cells": [
  {
   "cell_type": "code",
   "execution_count": 2,
   "metadata": {},
   "outputs": [],
   "source": [
    "import numpy as np \n",
    "from numpy import random"
   ]
  },
  {
   "cell_type": "markdown",
   "metadata": {},
   "source": [
    "### Random"
   ]
  },
  {
   "cell_type": "markdown",
   "metadata": {},
   "source": [
    "Numeros enteros"
   ]
  },
  {
   "cell_type": "code",
   "execution_count": 4,
   "metadata": {},
   "outputs": [
    {
     "name": "stdout",
     "output_type": "stream",
     "text": [
      "2\n"
     ]
    }
   ],
   "source": [
    "numero = random.randint(10)\n",
    "print(numero)"
   ]
  },
  {
   "cell_type": "markdown",
   "metadata": {},
   "source": [
    "Numeros decimales"
   ]
  },
  {
   "cell_type": "code",
   "execution_count": 6,
   "metadata": {},
   "outputs": [
    {
     "data": {
      "text/plain": [
       "0.7209490450585925"
      ]
     },
     "execution_count": 6,
     "metadata": {},
     "output_type": "execute_result"
    }
   ],
   "source": [
    "numero = random.rand()\n",
    "numero"
   ]
  },
  {
   "cell_type": "markdown",
   "metadata": {},
   "source": [
    "Crear arrays con numeros aleatorios"
   ]
  },
  {
   "cell_type": "code",
   "execution_count": 9,
   "metadata": {},
   "outputs": [
    {
     "name": "stdout",
     "output_type": "stream",
     "text": [
      "[8 3 2 6 1]\n",
      "[[7 0]\n",
      " [5 2]\n",
      " [3 4]\n",
      " [1 6]\n",
      " [1 9]]\n"
     ]
    }
   ],
   "source": [
    "# Crear arrays con valores enteros. El tamaño se define con size.\n",
    "numero = random.randint(10, size=5)\n",
    "array = random.randint(10, size=(5,2))\n",
    "print(numero)\n",
    "print(array)"
   ]
  },
  {
   "cell_type": "code",
   "execution_count": 10,
   "metadata": {},
   "outputs": [
    {
     "name": "stdout",
     "output_type": "stream",
     "text": [
      "[[0.91097359 0.54686803]\n",
      " [0.69699285 0.27773009]]\n"
     ]
    }
   ],
   "source": [
    "# Podemos crear arrays con numeros decimales aleatorios, pero solo podran ser entre el 0 y el 1. Ponemos las dimensiones directamente.\n",
    "ar_rand = random.rand(2,2)\n",
    "print(ar_rand)"
   ]
  },
  {
   "cell_type": "markdown",
   "metadata": {},
   "source": [
    "Choice"
   ]
  },
  {
   "cell_type": "code",
   "execution_count": 13,
   "metadata": {},
   "outputs": [
    {
     "name": "stdout",
     "output_type": "stream",
     "text": [
      "1\n"
     ]
    }
   ],
   "source": [
    "# Escoge un valor aleatorio de una matriz.\n",
    "numero = random.choice([1,2,3,4])\n",
    "print(numero)"
   ]
  },
  {
   "cell_type": "code",
   "execution_count": 14,
   "metadata": {},
   "outputs": [
    {
     "data": {
      "text/plain": [
       "array([[4, 1, 1],\n",
       "       [1, 4, 4]])"
      ]
     },
     "execution_count": 14,
     "metadata": {},
     "output_type": "execute_result"
    }
   ],
   "source": [
    "# También puede generar un array dado unos números y unas dimensiones.\n",
    "array = random.choice([1,2,3,4], size=(2,3))\n",
    "array"
   ]
  },
  {
   "cell_type": "code",
   "execution_count": 16,
   "metadata": {},
   "outputs": [
    {
     "name": "stdout",
     "output_type": "stream",
     "text": [
      "[[2 2 2]\n",
      " [2 4 4]\n",
      " [2 2 3]]\n"
     ]
    }
   ],
   "source": [
    "# Podemos asignarle pesos (p) para darle prioridad a ciertos numeros. \n",
    "arr = random.choice([4,3,2,1], p=[0.3,0.2,0.5,0], size=(3,3))\n",
    "print(arr)"
   ]
  },
  {
   "cell_type": "markdown",
   "metadata": {},
   "source": [
    "### Matemáticas"
   ]
  },
  {
   "cell_type": "code",
   "execution_count": 18,
   "metadata": {},
   "outputs": [
    {
     "name": "stdout",
     "output_type": "stream",
     "text": [
      "[ 5  5  5 11  7]\n"
     ]
    }
   ],
   "source": [
    "# Suma.\n",
    "mi_array1 = np.array([4,2,3,4,5])\n",
    "mi_array2 = np.array([1,3,2,7,2])\n",
    "suma = np.add(mi_array1, mi_array2)\n",
    "print(suma)"
   ]
  },
  {
   "cell_type": "code",
   "execution_count": 19,
   "metadata": {},
   "outputs": [
    {
     "name": "stdout",
     "output_type": "stream",
     "text": [
      "Matriz sumada [ 5  5  5 11  7]\n",
      "Resultado total 33\n"
     ]
    }
   ],
   "source": [
    "# Sum sumta todos los valores en uno.\n",
    "resultado = np.sum(suma, axis=0)\n",
    "print(f'Matriz sumada {suma}')\n",
    "print(f'Resultado total {resultado}')"
   ]
  },
  {
   "cell_type": "code",
   "execution_count": 25,
   "metadata": {},
   "outputs": [
    {
     "name": "stdout",
     "output_type": "stream",
     "text": [
      "[16 24]\n",
      "[18 22]\n"
     ]
    }
   ],
   "source": [
    "# Axis suma según el eje escogido. Vemos que hay dos valores distintos de la misma suma.\n",
    "ar = np.array([[1,2],[3,4]])\n",
    "ar1 = np.array([[6,7],[8,9]])\n",
    "suma = np.add(ar, ar1)\n",
    "res = np.sum(suma, axis=1)\n",
    "res1 = np.sum(suma, axis=0)\n",
    "print(res)\n",
    "print(res1)"
   ]
  },
  {
   "cell_type": "code",
   "execution_count": 26,
   "metadata": {},
   "outputs": [
    {
     "name": "stdout",
     "output_type": "stream",
     "text": [
      "[ 3 -1  1 -3  3]\n"
     ]
    }
   ],
   "source": [
    "# Resta.\n",
    "mi_array1 = np.array([4,2,3,4,5])\n",
    "mi_array2 = np.array([1,3,2,7,2])\n",
    "resta = np.subtract(mi_array1,mi_array2)\n",
    "print(resta)"
   ]
  },
  {
   "cell_type": "code",
   "execution_count": 27,
   "metadata": {},
   "outputs": [
    {
     "name": "stdout",
     "output_type": "stream",
     "text": [
      "[ 4  6  6 28 10]\n"
     ]
    }
   ],
   "source": [
    "# Multiplicación.\n",
    "mi_array1 = np.array([4,2,3,4,5])\n",
    "mi_array2 = np.array([1,3,2,7,2])\n",
    "multi = np.multiply(mi_array1, mi_array2)\n",
    "print(multi)"
   ]
  },
  {
   "cell_type": "code",
   "execution_count": 28,
   "metadata": {},
   "outputs": [
    {
     "name": "stdout",
     "output_type": "stream",
     "text": [
      "[4.         0.66666667 1.5        0.57142857 2.5       ]\n"
     ]
    }
   ],
   "source": [
    "# Division\n",
    "mi_array1 = np.array([4,2,3,4,5])\n",
    "mi_array2 = np.array([1,3,2,7,2])\n",
    "division = np.divide(mi_array1, mi_array2)\n",
    "print(division)"
   ]
  },
  {
   "cell_type": "code",
   "execution_count": 29,
   "metadata": {},
   "outputs": [
    {
     "name": "stdout",
     "output_type": "stream",
     "text": [
      "[ 3 -1  1 -3  3]\n",
      "[3 1 1 3 3]\n"
     ]
    }
   ],
   "source": [
    "# Valor absoluto.\n",
    "print(resta)\n",
    "val_abs = np.absolute(resta)\n",
    "print(val_abs)"
   ]
  },
  {
   "cell_type": "code",
   "execution_count": 31,
   "metadata": {},
   "outputs": [
    {
     "name": "stdout",
     "output_type": "stream",
     "text": [
      "[-1.  4.]\n"
     ]
    }
   ],
   "source": [
    "# Aproximación en forma de truncamiento.\n",
    "mi_array_dec = [-1.26, 4.89]\n",
    "resultado = np.trunc(mi_array_dec)\n",
    "print(resultado)"
   ]
  },
  {
   "cell_type": "code",
   "execution_count": 32,
   "metadata": {},
   "outputs": [
    {
     "name": "stdout",
     "output_type": "stream",
     "text": [
      "[-1.  5.]\n"
     ]
    }
   ],
   "source": [
    "# Aproximacion en forma de redondeo.\n",
    "mi_array_dec2 = [-1.26, 4.89]\n",
    "res2 = np.around(mi_array_dec2)\n",
    "print(res2)"
   ]
  },
  {
   "cell_type": "code",
   "execution_count": 33,
   "metadata": {},
   "outputs": [
    {
     "name": "stdout",
     "output_type": "stream",
     "text": [
      "[-2.  4.]\n"
     ]
    }
   ],
   "source": [
    "# Aproximación hacia el valor más bajo.\n",
    "res3 = np.floor(mi_array_dec2)\n",
    "print(res3)"
   ]
  },
  {
   "cell_type": "code",
   "execution_count": 34,
   "metadata": {},
   "outputs": [
    {
     "name": "stdout",
     "output_type": "stream",
     "text": [
      "[-1.  5.]\n"
     ]
    }
   ],
   "source": [
    "# Aproximacion hacia el valor más alto.\n",
    "res4 = np.ceil(mi_array_dec2)\n",
    "print(res4)"
   ]
  }
 ],
 "metadata": {
  "kernelspec": {
   "display_name": "Python 3",
   "language": "python",
   "name": "python3"
  },
  "language_info": {
   "codemirror_mode": {
    "name": "ipython",
    "version": 3
   },
   "file_extension": ".py",
   "mimetype": "text/x-python",
   "name": "python",
   "nbconvert_exporter": "python",
   "pygments_lexer": "ipython3",
   "version": "3.13.0"
  }
 },
 "nbformat": 4,
 "nbformat_minor": 2
}
