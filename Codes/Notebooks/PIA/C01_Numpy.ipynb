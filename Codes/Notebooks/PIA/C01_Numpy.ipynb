{
 "cells": [
  {
   "cell_type": "code",
   "execution_count": 1,
   "id": "fb5f4677-649e-4982-ae51-9edebf1a8b48",
   "metadata": {},
   "outputs": [],
   "source": [
    "import numpy as np "
   ]
  },
  {
   "cell_type": "code",
   "execution_count": 2,
   "id": "68cc9d5d-933f-4d03-85fc-da924dbb54f3",
   "metadata": {},
   "outputs": [
    {
     "name": "stdout",
     "output_type": "stream",
     "text": [
      "2.1.3\n"
     ]
    }
   ],
   "source": [
    "#Comprobar versión de Numpy.\n",
    "print(np.__version__)"
   ]
  },
  {
   "cell_type": "markdown",
   "id": "a5bb4b37-6bc2-401e-b365-e53d89ed8a80",
   "metadata": {},
   "source": [
    "#### Creamos un array cualquiera"
   ]
  },
  {
   "cell_type": "code",
   "execution_count": 3,
   "id": "509a640c-e759-439c-9ecb-2d5626136613",
   "metadata": {},
   "outputs": [
    {
     "name": "stdout",
     "output_type": "stream",
     "text": [
      "[1 2 3]\n",
      "<class 'numpy.ndarray'>\n"
     ]
    }
   ],
   "source": [
    "mi_array = np.array([1,2,3])\n",
    "print(mi_array)\n",
    "print(type(mi_array))"
   ]
  },
  {
   "cell_type": "markdown",
   "id": "d2e6a6a3-5896-4b11-8f70-945fa8d6edcb",
   "metadata": {},
   "source": [
    "### Dimensión 1"
   ]
  },
  {
   "cell_type": "code",
   "execution_count": 4,
   "id": "efe96c80-250a-4097-9506-9d99df1543cc",
   "metadata": {},
   "outputs": [
    {
     "name": "stdout",
     "output_type": "stream",
     "text": [
      "[1 3 5 7]\n"
     ]
    }
   ],
   "source": [
    "mi_array = np.array([1,3,5,7])\n",
    "print(mi_array)"
   ]
  },
  {
   "cell_type": "markdown",
   "id": "57ccdac0-6e7a-43be-9022-1c6a76f696ac",
   "metadata": {},
   "source": [
    "### Dimensión 2"
   ]
  },
  {
   "cell_type": "code",
   "execution_count": 5,
   "id": "aaa4e3dd-bccf-4fe6-b756-cf6560b7007f",
   "metadata": {},
   "outputs": [
    {
     "name": "stdout",
     "output_type": "stream",
     "text": [
      "[[1 3 5 7]\n",
      " [1 2 3 4]]\n"
     ]
    }
   ],
   "source": [
    "mi_array = np.array([[1,3,5,7],[1,2,3,4]])\n",
    "print(mi_array)"
   ]
  },
  {
   "cell_type": "markdown",
   "id": "fdeb0e6c-55b8-4769-9e37-ad5142c9f7c1",
   "metadata": {},
   "source": [
    "### Dimensión 3"
   ]
  },
  {
   "cell_type": "code",
   "execution_count": 6,
   "id": "1fb748b5-4445-484b-a246-395d3efbf486",
   "metadata": {
    "scrolled": true
   },
   "outputs": [
    {
     "name": "stdout",
     "output_type": "stream",
     "text": [
      "[[[1 3 5 7]\n",
      "  [1 2 3 4]]\n",
      "\n",
      " [[2 4 6 8]\n",
      "  [9 7 5 3]]]\n"
     ]
    }
   ],
   "source": [
    "mi_array = np.array([[[1,3,5,7],[1,2,3,4]],[[2,4,6,8],[9,7,5,3]]])\n",
    "print(mi_array)"
   ]
  },
  {
   "cell_type": "markdown",
   "id": "19def6d7-9c0e-4c19-b74f-93a206ec31ee",
   "metadata": {},
   "source": [
    "### Creación de arrays de cualquier dimensión."
   ]
  },
  {
   "cell_type": "code",
   "execution_count": 7,
   "id": "032d0119-ec74-4215-b4a8-ad2b514057df",
   "metadata": {},
   "outputs": [
    {
     "name": "stdout",
     "output_type": "stream",
     "text": [
      "[[[[[1 2 3]]]]]\n"
     ]
    }
   ],
   "source": [
    "#Array de 5 dimensiones\n",
    "mi_array = np.array([1,2,3], ndmin=5)\n",
    "print(mi_array)"
   ]
  },
  {
   "cell_type": "code",
   "execution_count": 8,
   "id": "92a49bda-3311-4dff-b419-bcdaa0f3e54d",
   "metadata": {},
   "outputs": [
    {
     "data": {
      "text/plain": [
       "5"
      ]
     },
     "execution_count": 8,
     "metadata": {},
     "output_type": "execute_result"
    }
   ],
   "source": [
    "#Comprobar el número de dimensiones\n",
    "mi_array.ndim"
   ]
  },
  {
   "cell_type": "markdown",
   "id": "98ca24a5-ca51-49c9-811f-04fbf0647f15",
   "metadata": {},
   "source": [
    "### Indexado de arrays."
   ]
  },
  {
   "cell_type": "code",
   "execution_count": 9,
   "id": "8f182e7f-3072-4a86-a008-2aa28445022a",
   "metadata": {},
   "outputs": [
    {
     "name": "stdout",
     "output_type": "stream",
     "text": [
      "2\n"
     ]
    }
   ],
   "source": [
    "mi_array = np.array([1,2,3,4])\n",
    "print(mi_array[1])"
   ]
  },
  {
   "cell_type": "code",
   "execution_count": 10,
   "id": "367c0fdb-8fef-4d75-8b37-44aa855052d0",
   "metadata": {},
   "outputs": [
    {
     "name": "stdout",
     "output_type": "stream",
     "text": [
      "2\n"
     ]
    }
   ],
   "source": [
    "mi_array = np.array([[1,3,5,7],[1,2,3,4]])\n",
    "print(mi_array[1,1])"
   ]
  },
  {
   "cell_type": "code",
   "execution_count": 11,
   "id": "78538b2c-ad95-4613-b196-78911a7c8e26",
   "metadata": {},
   "outputs": [
    {
     "name": "stdout",
     "output_type": "stream",
     "text": [
      "[[1 3 5 7]\n",
      " [1 2 3 4]]\n"
     ]
    }
   ],
   "source": [
    "mi_array = np.array([[[1,3,5,7],[1,2,3,4]],[[2,4,6,8],[9,7,5,3]]])\n",
    "print(mi_array[0,])"
   ]
  },
  {
   "cell_type": "code",
   "execution_count": null,
   "id": "0433692f",
   "metadata": {},
   "outputs": [
    {
     "name": "stdout",
     "output_type": "stream",
     "text": [
      "7\n"
     ]
    }
   ],
   "source": [
    "#Nos quedamos con los valores que queremos.\n",
    "print(mi_array[1,1,1])\n"
   ]
  },
  {
   "cell_type": "code",
   "execution_count": 16,
   "id": "6f01ebcb",
   "metadata": {},
   "outputs": [
    {
     "name": "stdout",
     "output_type": "stream",
     "text": [
      "[ 700 1100]\n",
      "[ 700  900 1100 1300]\n",
      "[ 700  900 1100 1300    1]\n"
     ]
    }
   ],
   "source": [
    "mi_array = np.array([100,300,500,700,900,1100,1300,1,2])\n",
    "print(mi_array[3:7:2])\n",
    "print(mi_array[3:7])\n",
    "print(mi_array[3:-1])"
   ]
  },
  {
   "cell_type": "markdown",
   "id": "db324a30",
   "metadata": {},
   "source": [
    "### Métodos Copy y View."
   ]
  },
  {
   "cell_type": "code",
   "execution_count": 21,
   "id": "df2c45b4",
   "metadata": {},
   "outputs": [
    {
     "name": "stdout",
     "output_type": "stream",
     "text": [
      "[  1 100   3   4   5   6   7   8]\n",
      "[1 2 3 4 5 6 7 8]\n"
     ]
    }
   ],
   "source": [
    "#Copy no sobrescribe los datos de la variable nueva.\n",
    "mi_array = np.array([1,2,3,4,5,6,7,8])\n",
    "mi_nuevo_array = mi_array.copy()\n",
    "\n",
    "mi_array[1] = 100\n",
    "\n",
    "print(mi_array)\n",
    "print(mi_nuevo_array)"
   ]
  },
  {
   "cell_type": "code",
   "execution_count": 22,
   "id": "33fe5b20",
   "metadata": {},
   "outputs": [
    {
     "name": "stdout",
     "output_type": "stream",
     "text": [
      "[  1 100   3   4   5   6   7   8]\n",
      "[  1 100   3   4   5   6   7   8]\n"
     ]
    }
   ],
   "source": [
    "#View si sobreescribe los datos de la variable nueva.\n",
    "mi_array = np.array([1,2,3,4,5,6,7,8])\n",
    "mi_nuevo_array = mi_array.view()\n",
    "\n",
    "mi_array[1] = 100\n",
    "\n",
    "print(mi_array)\n",
    "print(mi_nuevo_array)"
   ]
  },
  {
   "cell_type": "markdown",
   "id": "58c54626",
   "metadata": {},
   "source": [
    "### Shape de un array."
   ]
  },
  {
   "cell_type": "code",
   "execution_count": 24,
   "id": "5557b753",
   "metadata": {},
   "outputs": [],
   "source": [
    "mi_array = np.array([[[1,3,5,7],[1,2,3,4]],[[2,4,6,8],[9,7,5,3]]])"
   ]
  },
  {
   "cell_type": "code",
   "execution_count": 26,
   "id": "7b1ecb1d",
   "metadata": {},
   "outputs": [
    {
     "data": {
      "text/plain": [
       "(2, 2, 4)"
      ]
     },
     "execution_count": 26,
     "metadata": {},
     "output_type": "execute_result"
    }
   ],
   "source": [
    "#Shape muestra las dimensiones de un array.\n",
    "mi_array.shape"
   ]
  },
  {
   "cell_type": "code",
   "execution_count": 27,
   "id": "1e0e14e8",
   "metadata": {},
   "outputs": [
    {
     "name": "stdout",
     "output_type": "stream",
     "text": [
      "[1 2 3 4 5 6 7 8 9]\n",
      "[[1 2 3]\n",
      " [4 5 6]\n",
      " [7 8 9]]\n"
     ]
    }
   ],
   "source": [
    "mi_array = np.array([1,2,3,4,5,6,7,8,9])\n",
    "print(mi_array)\n",
    "mi_nuevo_array = mi_array.reshape(3,3)\n",
    "print(mi_nuevo_array)"
   ]
  },
  {
   "cell_type": "markdown",
   "id": "74034503",
   "metadata": {},
   "source": [
    "### Recorrido de arrays"
   ]
  },
  {
   "cell_type": "code",
   "execution_count": 35,
   "id": "59015dd4",
   "metadata": {},
   "outputs": [
    {
     "name": "stdout",
     "output_type": "stream",
     "text": [
      "1\n",
      "2\n",
      "3\n",
      "4\n",
      "5\n",
      "6\n",
      "7\n",
      "8\n",
      "9\n"
     ]
    }
   ],
   "source": [
    "mi_array = np.array([1,2,3,4,5,6,7,8,9])\n",
    "for elemento in mi_array:\n",
    "    print(elemento)"
   ]
  },
  {
   "cell_type": "code",
   "execution_count": 34,
   "id": "d7e52b37",
   "metadata": {},
   "outputs": [
    {
     "name": "stdout",
     "output_type": "stream",
     "text": [
      "1\n",
      "2\n",
      "3\n",
      "4\n",
      "5\n",
      "6\n",
      "7\n",
      "8\n"
     ]
    }
   ],
   "source": [
    "#Recorridos de distintas dimensiones.\n",
    "mi_array = np.array([[1,2,3,4],[5,6,7,8]])\n",
    "for fila in mi_array:\n",
    "    for elemento in fila:\n",
    "        print(elemento)"
   ]
  },
  {
   "cell_type": "code",
   "execution_count": 38,
   "id": "63acb1b4",
   "metadata": {},
   "outputs": [
    {
     "name": "stdout",
     "output_type": "stream",
     "text": [
      "1\n",
      "3\n",
      "5\n",
      "7\n",
      "1\n",
      "2\n",
      "3\n",
      "4\n",
      "2\n",
      "4\n",
      "6\n",
      "8\n",
      "9\n",
      "7\n",
      "5\n",
      "3\n"
     ]
    }
   ],
   "source": [
    "#Dimensiones más grandes\n",
    "mi_array = np.array([[[1,3,5,7],[1,2,3,4]],[[2,4,6,8],[9,7,5,3]]])\n",
    "for matriz in mi_array:\n",
    "    for fila in matriz:\n",
    "        for elemento in fila:\n",
    "            print(elemento)"
   ]
  },
  {
   "cell_type": "code",
   "execution_count": 39,
   "id": "910cb75d",
   "metadata": {},
   "outputs": [
    {
     "name": "stdout",
     "output_type": "stream",
     "text": [
      "[1 3 5 7]\n",
      "[1 2 3 4]\n",
      "[2 4 6 8]\n",
      "[9 7 5 3]\n"
     ]
    }
   ],
   "source": [
    "#Nos quedamos con los datos que queramos\n",
    "for matriz in mi_array:\n",
    "    for fila in matriz:\n",
    "        print(fila)"
   ]
  }
 ],
 "metadata": {
  "kernelspec": {
   "display_name": "Python 3",
   "language": "python",
   "name": "python3"
  },
  "language_info": {
   "codemirror_mode": {
    "name": "ipython",
    "version": 3
   },
   "file_extension": ".py",
   "mimetype": "text/x-python",
   "name": "python",
   "nbconvert_exporter": "python",
   "pygments_lexer": "ipython3",
   "version": "3.13.0"
  }
 },
 "nbformat": 4,
 "nbformat_minor": 5
}
